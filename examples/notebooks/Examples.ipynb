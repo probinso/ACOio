{
 "cells": [
  {
   "cell_type": "markdown",
   "metadata": {},
   "source": [
    "# The Aloha Cabled Observatory\n",
    "\n",
    "February’s four session meetup series we’ll be working with long term hydrophone recordings from University of Hawaii's Aloha Cabled Observatory (ACO - http://aco-ssds.soest.hawaii.edu), located at a depth of 4728m off Oahu (N22◦45.110' W158◦00'). The recordings span a year and contain many acoustic events: wave movements, the sound of rain, ship noise, possible bomb noises, geologic activity and whale calls and songs. There is a wide range of project topics to explore: identifying and counting acoustic events such as whale calls, measuring daily or seasonal noise trends, measuring wave hydrodynamics, etc. Note: be sure to bring a good headset – there are some interesting sounds in the recordings!\n",
    "\n",
    "Everyone from beginners to experts are welcome. As always, our three objectives are: 1. Provide skill-level-appropriate challenges to all participants. 2. Participants collaborate with and learn from one another. 3. Those who attend all four Sundays finish a project they can add to their github/resume/portfolio. Bring your favorite data analysis software! We're language-agnostic. If you don't already have a favorite analysis tool, here are a few suggestions: http://goo.gl/W8Q6cV"
   ]
  },
  {
   "cell_type": "markdown",
   "metadata": {},
   "source": [
    "# The Data\n",
    "\n",
    "In it's raw form, the recordings grow at 1.2TB / Year for the 24bbps recordings, and there are 10 years of it. We have chosen to use `mp3` as a compression format to make it more availible, at the loss of some resolution. \n",
    "\n",
    "\n",
    "This data in particular you will find to be very noisy and very big. The files are split into 5 minute tracks, with multiple options of data to study.\n",
    "- Top 5 minutes of every hour for 1 year (10.5 GB)\n",
    "- Top 5 minutes of every other hour for 1 year (5.3 GB)\n",
    "- Continuous 2 months (20.4 GB)\n",
    "- Continuous 1 month (10.2 GB)\n",
    "- Continuous 2 weeks (4.8 GB)\n",
    "- Continuous 1 week (2.4 GB)\n",
    "\n",
    "\n",
    "# Known Issues\n",
    "\n",
    "The audio is sampled at 24K samples per second. There may be many reasons to downsample for your analysis. When played in most audio players (except `sox`) all tracks should be re-sampled to 24K, otherwise it wont play.\n",
    "\n",
    "# Data Requests\n",
    "\n",
    "If you find a particularily interesting 5 minute chunk, and want some specific surrounding tracks please reach out to `probinso+pdsg@protonmail.com` with the specific datetimes. Be sure to mention why you are interested in the tracks.\n"
   ]
  },
  {
   "cell_type": "markdown",
   "metadata": {},
   "source": [
    "# Project/Challenge Ideas\n",
    "\n",
    "There are a lot of challenges that have varying difficulty in this data set. Audio data itself is difficult to work with. \n",
    "## Some Ideas\n",
    "- Reproducable solutions/strategies to cleaning audio samples\n",
    "- Find the most of an acoustic event type\n",
    "    - general anomaly detector\n",
    "    - species vocalizations\n",
    "    - earthquakes\n",
    "    - rain\n",
    "- Make longitudinal coorelations with known events of the region\n",
    "- Manage/study large datasets\n",
    "- Design algorithms to be out of core"
   ]
  },
  {
   "cell_type": "markdown",
   "metadata": {},
   "source": [
    "# ACOio\n",
    "\n",
    "It is not nessicary to use the `ACOio` library, this is just a tool that I wrote to explore this data more easily. It is not intended to bias your interests, but if you have little audio experience it may make your life easier.\n",
    "\n",
    "In particular features like\n",
    "\n",
    "- `timedelta` indexing\n",
    "- Simple visualizations\n",
    "- `jupyter` compliant listening\n",
    "- spectral subtraction\n",
    "- track stitching and NAN collapsing\n",
    "- file loading\n",
    "\n",
    "You will possibly find this interface frustrating if you go deeper on the dataset. In which case I would strongly suggest looking at `scipy.signal` or your favorite signal processing library."
   ]
  },
  {
   "cell_type": "code",
   "execution_count": 1,
   "metadata": {},
   "outputs": [
    {
     "ename": "ModuleNotFoundError",
     "evalue": "No module named 'aco'",
     "output_type": "error",
     "traceback": [
      "\u001b[0;31m---------------------------------------------------------------------------\u001b[0m",
      "\u001b[0;31mModuleNotFoundError\u001b[0m                       Traceback (most recent call last)",
      "\u001b[0;32m<ipython-input-1-93956933169c>\u001b[0m in \u001b[0;36m<module>\u001b[0;34m\u001b[0m\n\u001b[0;32m----> 1\u001b[0;31m \u001b[0;32mfrom\u001b[0m \u001b[0maco\u001b[0m \u001b[0;32mimport\u001b[0m \u001b[0mACOio\u001b[0m\u001b[0;34m,\u001b[0m \u001b[0mdatetime\u001b[0m\u001b[0;34m,\u001b[0m \u001b[0mtimedelta\u001b[0m\u001b[0;34m,\u001b[0m \u001b[0mACOLoader\u001b[0m\u001b[0;34m\u001b[0m\u001b[0;34m\u001b[0m\u001b[0m\n\u001b[0m",
      "\u001b[0;31mModuleNotFoundError\u001b[0m: No module named 'aco'"
     ]
    }
   ],
   "source": [
    "from aco import ACOio, datetime, timedelta, ACOLoader"
   ]
  },
  {
   "cell_type": "code",
   "execution_count": null,
   "metadata": {},
   "outputs": [],
   "source": [
    "loader = ACOio('/home/probinso/Whales', ACOLoader)"
   ]
  },
  {
   "cell_type": "code",
   "execution_count": null,
   "metadata": {},
   "outputs": [],
   "source": [
    "# select a date\n",
    "target = datetime(\n",
    "    day=1, month=1, year=2013\n",
    ")\n",
    "\n",
    "# if needed, select a duration (defaults to 5 minutes)\n",
    "dur = timedelta(seconds=20)\n"
   ]
  },
  {
   "cell_type": "code",
   "execution_count": null,
   "metadata": {},
   "outputs": [],
   "source": [
    "src = loader.load(target, dur)"
   ]
  },
  {
   "cell_type": "code",
   "execution_count": null,
   "metadata": {},
   "outputs": [],
   "source": [
    "src.View()"
   ]
  },
  {
   "cell_type": "code",
   "execution_count": null,
   "metadata": {},
   "outputs": [],
   "source": [
    "src.Listen()"
   ]
  },
  {
   "cell_type": "code",
   "execution_count": null,
   "metadata": {},
   "outputs": [],
   "source": [
    "_ = src.resample_fs(800)\n",
    "_.View()\n",
    "_.Listen()"
   ]
  },
  {
   "cell_type": "code",
   "execution_count": null,
   "metadata": {
    "scrolled": true
   },
   "outputs": [],
   "source": [
    "src[:timedelta(seconds=5)].View('autocorr')"
   ]
  },
  {
   "cell_type": "code",
   "execution_count": null,
   "metadata": {},
   "outputs": [],
   "source": [
    "src.View('logspectrogram')"
   ]
  },
  {
   "cell_type": "code",
   "execution_count": null,
   "metadata": {},
   "outputs": [],
   "source": [
    "src.View('power')"
   ]
  },
  {
   "cell_type": "code",
   "execution_count": null,
   "metadata": {},
   "outputs": [],
   "source": [
    "_ = src.lowpass(cut_off=20)\n",
    "_.View()\n",
    "_.Listen()"
   ]
  },
  {
   "cell_type": "code",
   "execution_count": null,
   "metadata": {},
   "outputs": [],
   "source": [
    "_ = src.highpass(cut_off=20)\n",
    "_.View()\n",
    "_.Listen()"
   ]
  },
  {
   "cell_type": "code",
   "execution_count": null,
   "metadata": {},
   "outputs": [],
   "source": [
    "_ = src.highpass().lowpass()\n",
    "_.View()\n",
    "_.Listen()"
   ]
  },
  {
   "cell_type": "code",
   "execution_count": null,
   "metadata": {},
   "outputs": [],
   "source": [
    "segment = src[:timedelta(seconds=6)]\n",
    "_ = src[:timedelta(seconds=20)].highpass().lowpass().subtract(segment)\n",
    "_.View()\n",
    "_.Listen()"
   ]
  },
  {
   "cell_type": "code",
   "execution_count": null,
   "metadata": {},
   "outputs": [],
   "source": []
  },
  {
   "cell_type": "code",
   "execution_count": null,
   "metadata": {},
   "outputs": [],
   "source": [
    "\n",
    "\n",
    "fs = 1600\n",
    "_ = loader.load(target + timedelta(minutes=3), timedelta(minutes=3)).highpass().lowpass().resample_fs(fs).subtract(segment.resample_fs(fs))\n",
    "_.View()\n",
    "_.View('logspectrogram')\n",
    "_.Listen()"
   ]
  },
  {
   "cell_type": "code",
   "execution_count": null,
   "metadata": {},
   "outputs": [],
   "source": []
  }
 ],
 "metadata": {
  "kernelspec": {
   "display_name": "Python 3",
   "language": "python",
   "name": "python3"
  },
  "language_info": {
   "codemirror_mode": {
    "name": "ipython",
    "version": 3
   },
   "file_extension": ".py",
   "mimetype": "text/x-python",
   "name": "python",
   "nbconvert_exporter": "python",
   "pygments_lexer": "ipython3",
   "version": "3.6.12"
  }
 },
 "nbformat": 4,
 "nbformat_minor": 4
}
