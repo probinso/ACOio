{
 "cells": [
  {
   "cell_type": "code",
   "execution_count": 1,
   "metadata": {},
   "outputs": [],
   "source": [
    "import matplotlib.pyplot as plt\n",
    "from ipywidgets import widgets\n"
   ]
  },
  {
   "cell_type": "code",
   "execution_count": null,
   "metadata": {},
   "outputs": [],
   "source": []
  },
  {
   "cell_type": "code",
   "execution_count": 4,
   "metadata": {},
   "outputs": [
    {
     "ename": "ModuleNotFoundError",
     "evalue": "No module named 'ACOio'",
     "output_type": "error",
     "traceback": [
      "\u001b[0;31m---------------------------------------------------------------------------\u001b[0m",
      "\u001b[0;31mModuleNotFoundError\u001b[0m                       Traceback (most recent call last)",
      "\u001b[0;32m<ipython-input-4-e69ed08e0fcf>\u001b[0m in \u001b[0;36m<module>\u001b[0;34m\u001b[0m\n\u001b[0;32m----> 1\u001b[0;31m \u001b[0;32mfrom\u001b[0m \u001b[0mACOio\u001b[0m \u001b[0;32mimport\u001b[0m \u001b[0mACOio\u001b[0m\u001b[0;34m,\u001b[0m \u001b[0mdatetime\u001b[0m\u001b[0;34m,\u001b[0m \u001b[0mtimedelta\u001b[0m\u001b[0;34m,\u001b[0m \u001b[0mSound\u001b[0m\u001b[0;34m,\u001b[0m \u001b[0mACO\u001b[0m\u001b[0;34m,\u001b[0m \u001b[0mMp3Loader\u001b[0m\u001b[0;34m\u001b[0m\u001b[0;34m\u001b[0m\u001b[0m\n\u001b[0m\u001b[1;32m      2\u001b[0m \u001b[0mget_ipython\u001b[0m\u001b[0;34m(\u001b[0m\u001b[0;34m)\u001b[0m\u001b[0;34m.\u001b[0m\u001b[0mrun_line_magic\u001b[0m\u001b[0;34m(\u001b[0m\u001b[0;34m'matplotlib'\u001b[0m\u001b[0;34m,\u001b[0m \u001b[0;34m'inline'\u001b[0m\u001b[0;34m)\u001b[0m\u001b[0;34m\u001b[0m\u001b[0;34m\u001b[0m\u001b[0m\n\u001b[1;32m      3\u001b[0m \u001b[0;34m\u001b[0m\u001b[0m\n\u001b[1;32m      4\u001b[0m \u001b[0mloader\u001b[0m \u001b[0;34m=\u001b[0m \u001b[0mACOio\u001b[0m\u001b[0;34m(\u001b[0m\u001b[0;34m'/run/media/probinso/2ACA-9292/two_months'\u001b[0m\u001b[0;34m,\u001b[0m \u001b[0mMp3Loader\u001b[0m\u001b[0;34m)\u001b[0m\u001b[0;34m\u001b[0m\u001b[0;34m\u001b[0m\u001b[0m\n\u001b[1;32m      5\u001b[0m target = datetime(\n",
      "\u001b[0;31mModuleNotFoundError\u001b[0m: No module named 'ACOio'"
     ]
    }
   ],
   "source": [
    "from ACOio import ACOio, datetime, timedelta, Sound, ACO, Mp3Loader\n",
    "%matplotlib inline\n",
    "\n",
    "loader = ACOio('/run/media/probinso/2ACA-9292/two_months', Mp3Loader)\n",
    "target = datetime(\n",
    "    day=18, month=2, year=2015,\n",
    "    hour=8, minute=15\n",
    ")\n",
    "\n",
    "# original audio\n",
    "src = loader.load(target)[:timedelta(seconds=30)]\n",
    "src.View()\n",
    "plt.title('Raw')\n",
    "src.Listen()"
   ]
  },
  {
   "cell_type": "code",
   "execution_count": null,
   "metadata": {
    "scrolled": false
   },
   "outputs": [],
   "source": [
    "\n",
    "x = []\n",
    "y = []\n",
    "for snd in src.chunk(timedelta(seconds=2), timedelta(seconds=2)):\n",
    "    box = widgets.Checkbox(\n",
    "        value=False,\n",
    "        description='Whale',\n",
    "        disabled=False\n",
    "    )\n",
    "\n",
    "    x.append(snd)\n",
    "    y.append(box)\n",
    "    \n",
    "    noise = snd[\n",
    "        timedelta(seconds=0.0):\n",
    "        timedelta(seconds=0.2)\n",
    "    ]\n",
    "    clean = snd.subtract(noise)\n",
    "    clean.View()\n",
    "    plt.show()\n",
    "    display(snd.Listen(), box)"
   ]
  },
  {
   "cell_type": "code",
   "execution_count": null,
   "metadata": {},
   "outputs": [],
   "source": [
    "def save_contents():\n",
    "    global y\n",
    "    _ = map(lambda box: int(box.value), y)\n",
    "\n",
    "    for snd, label in zip(x, _):\n",
    "        snd.save(label)"
   ]
  },
  {
   "cell_type": "code",
   "execution_count": null,
   "metadata": {},
   "outputs": [],
   "source": [
    "#save_contents()"
   ]
  }
 ],
 "metadata": {
  "kernelspec": {
   "display_name": "Python 3",
   "language": "python",
   "name": "python3"
  },
  "language_info": {
   "codemirror_mode": {
    "name": "ipython",
    "version": 3
   },
   "file_extension": ".py",
   "mimetype": "text/x-python",
   "name": "python",
   "nbconvert_exporter": "python",
   "pygments_lexer": "ipython3",
   "version": "3.7.6"
  }
 },
 "nbformat": 4,
 "nbformat_minor": 2
}
